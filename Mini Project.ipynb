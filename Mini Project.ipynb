{
 "cells": [
  {
   "cell_type": "code",
   "execution_count": 1,
   "id": "d4770d44",
   "metadata": {},
   "outputs": [],
   "source": [
    "# import libraries \n",
    "\n",
    "from bs4 import BeautifulSoup\n",
    "import requests\n",
    "from smtplib import SMTP\n"
   ]
  },
  {
   "cell_type": "code",
   "execution_count": 7,
   "id": "e80c0d0c",
   "metadata": {},
   "outputs": [
    {
     "name": "stdout",
     "output_type": "stream",
     "text": [
      "18490.00\n",
      "\n",
      "            LG 7 kg 5 Star Inverter Fully-Automatic Top Loading Washing Machine (‎T70SKSF1Z, Middle Free Silver, TurboDrum)\n",
      "           \n"
     ]
    }
   ],
   "source": [
    "\n",
    "    URL = 'https://www.amazon.in/LG-Inverter-Fully-Automatic-Loading-T70SKSF1Z/dp/B08DF1Y7T7/ref=sr_1_2?pf_rd_i=1380369031&pf_rd_m=A1K21FY43GMZF8&pf_rd_p=ea8c5e95-d054-449f-8921-9739c3a3604e&pf_rd_r=HKJXG8N8Z9YE07BFTXXM&pf_rd_s=merchandised-search-10&pf_rd_t=101&qid=1670514455&refinements=p_n_feature_fifteen_browse-bin%3A2753052031%2Cp_85%3A10440599031&rps=1&s=kitchen&sr=1-2'\n",
    "    headers = {\"User-Agent\": \"Mozilla/5.0 (Windows NT 10.0; Win64; x64) AppleWebKit/537.36 (KHTML, like Gecko) Chrome/108.0.0.0 Safari/537.36\",\"Accept-Encoding\":\"gzip, deflate\", \"Accept\":\"text/html,application/xhtml+xml,application/xml;q=0.9,*/*;q=0.8\", \"DNT\":\"1\",\"Connection\":\"close\", \"Upgrade-Insecure-Requests\":\"1\"}\n",
    "    page = requests.get(URL, headers=headers)\n",
    "    soup1 = BeautifulSoup(page.content, 'html.parser')\n",
    "    soup2 = BeautifulSoup(soup1.prettify(),'html.parser')   #prettify() used to get data in proper manner \n",
    "    title = soup2.find(id='productTitle').get_text()\n",
    "    price = soup2.find(id='corePriceDisplay_desktop_feature_div').get_text().split()[1].split('₹')[1].replace(',','')\n",
    "    print(price)\n",
    "    print(title)\n"
   ]
  },
  {
   "cell_type": "code",
   "execution_count": 4,
   "id": "8bbc05f1",
   "metadata": {},
   "outputs": [
    {
     "name": "stdout",
     "output_type": "stream",
     "text": [
      "LG 7 kg 5 Star Inverter Fully-Automatic Top Loading Washing Machine (‎T70SKSF1Z, Middle Free Silver, TurboDrum)\n",
      "18490.0\n"
     ]
    }
   ],
   "source": [
    "# Data Cleaning\n",
    "title=title.strip()\n",
    "price = float(soup1.find(id='corePriceDisplay_desktop_feature_div').get_text().split()[1].split('₹')[1].replace(',',''))\n",
    "print(title)\n",
    "print(price)"
   ]
  },
  {
   "cell_type": "code",
   "execution_count": 2,
   "id": "0c8030b8",
   "metadata": {},
   "outputs": [
    {
     "name": "stdout",
     "output_type": "stream",
     "text": [
      "2022-12-21 02:53:03.241315\n"
     ]
    }
   ],
   "source": [
    "from datetime import datetime\n",
    "today=datetime.now()\n",
    "print(today)\n",
    "\n"
   ]
  },
  {
   "cell_type": "code",
   "execution_count": 67,
   "id": "a94bdb71",
   "metadata": {},
   "outputs": [],
   "source": []
  },
  {
   "cell_type": "code",
   "execution_count": 71,
   "id": "a1eb3518",
   "metadata": {},
   "outputs": [],
   "source": [
    "\n",
    "    SMTP_SERVER = 'smtp.gmail.com'\n",
    "    PORT = 587\n",
    "    email_id='sk8948839487.sk@gmail.com'\n",
    "    password='icystojgzdrunbye'\n",
    "    getmail='kaushal.jeena@gmail.com'\n",
    "    server= SMTP(SMTP_SERVER,PORT)\n",
    "    server.starttls()\n",
    "    server.login(email_id,password)\n",
    "    \n",
    "    subject='Hurry Up-BUY NOW'\n",
    "    body='Price is under your budget,Buy It Now:--'+ URL\n",
    "    msg=f'Subject:{subject}\\n\\n{body}'\n",
    "    \n",
    "    server.sendmail(email_id,getmail,msg)\n",
    "    server.quit()\n",
    "    \n",
    "    "
   ]
  },
  {
   "cell_type": "code",
   "execution_count": null,
   "id": "c22c9f32",
   "metadata": {},
   "outputs": [],
   "source": [
    "#setting up budget price\n",
    "budget_price=17000"
   ]
  },
  {
   "cell_type": "code",
   "execution_count": 72,
   "id": "c2a53981",
   "metadata": {},
   "outputs": [],
   "source": [
    "if price<=budget_price:\n",
    "    notify()"
   ]
  },
  {
   "cell_type": "code",
   "execution_count": 11,
   "id": "07777901",
   "metadata": {},
   "outputs": [
    {
     "data": {
      "text/plain": [
       "150"
      ]
     },
     "execution_count": 11,
     "metadata": {},
     "output_type": "execute_result"
    }
   ],
   "source": [
    "import csv\n",
    "header=['Title','Price','Date']\n",
    "data=[title,price,today]\n",
    "\n",
    "f= open('AmazonWebScrapingDataset'+'.csv','w',newline='',encoding='UTF8')\n",
    "writer=csv.writer(f)\n",
    "writer.writerow(header)\n",
    "writer.writerow(data)"
   ]
  },
  {
   "cell_type": "code",
   "execution_count": 15,
   "id": "1fe6d6d9",
   "metadata": {},
   "outputs": [
    {
     "name": "stdout",
     "output_type": "stream",
     "text": [
      "                                               Title    Price  \\\n",
      "0  LG 7 kg 5 Star Inverter Fully-Automatic Top Lo...  18490.0   \n",
      "1  LG 7 kg 5 Star Inverter Fully-Automatic Top Lo...  18490.0   \n",
      "2  LG 7 kg 5 Star Inverter Fully-Automatic Top Lo...  18490.0   \n",
      "3  LG 7 kg 5 Star Inverter Fully-Automatic Top Lo...  18490.0   \n",
      "4  LG 7 kg 5 Star Inverter Fully-Automatic Top Lo...  18490.0   \n",
      "5  LG 7 kg 5 Star Inverter Fully-Automatic Top Lo...  18490.0   \n",
      "\n",
      "                         Date  \n",
      "0  2022-12-11 06:11:31.400280  \n",
      "1  2022-12-11 06:12:22.415667  \n",
      "2  2022-12-11 06:12:35.870386  \n",
      "3  2022-12-11 06:12:49.214950  \n",
      "4  2022-12-11 06:13:02.436147  \n",
      "5  2022-12-11 06:13:16.081143  \n"
     ]
    }
   ],
   "source": [
    "import pandas as pd\n",
    "df=pd.read_csv(r'AmazonWebScrapingDataset'+'.csv')\n",
    "print(df)"
   ]
  },
  {
   "cell_type": "code",
   "execution_count": 259,
   "id": "b185d9aa",
   "metadata": {},
   "outputs": [
    {
     "data": {
      "text/plain": [
       "150"
      ]
     },
     "execution_count": 259,
     "metadata": {},
     "output_type": "execute_result"
    }
   ],
   "source": [
    "f= open('AmazonWebScrapingDataset'+'.csv','a+',newline='',encoding='UTF8')\n",
    "writer=csv.writer(f)\n",
    "writer.writerow(data)"
   ]
  },
  {
   "cell_type": "code",
   "execution_count": null,
   "id": "be272132",
   "metadata": {},
   "outputs": [],
   "source": [
    "# import libraries \n",
    "from bs4 import BeautifulSoup\n",
    "import requests\n",
    "from smtplib import SMTP"
   ]
  },
  {
   "cell_type": "code",
   "execution_count": null,
   "id": "f80485d0",
   "metadata": {},
   "outputs": [],
   "source": [
    "import csv\n",
    "header=['Title','Price','Date']\n",
    "data=[title,price,today]\n",
    "\n",
    "f= open('AmazonWebScrapingDataset'+'.csv','w',newline='',encoding='UTF8')\n",
    "writer=csv.writer(f)\n",
    "writer.writerow(header)\n",
    "#writer.writerow(data)"
   ]
  },
  {
   "cell_type": "code",
   "execution_count": 13,
   "id": "91ebcb7e",
   "metadata": {},
   "outputs": [],
   "source": [
    "def price_check():\n",
    "    URL = 'https://www.amazon.in/LG-Inverter-Fully-Automatic-Loading-T70SKSF1Z/dp/B08DF1Y7T7/ref=sr_1_2?pf_rd_i=1380369031&pf_rd_m=A1K21FY43GMZF8&pf_rd_p=ea8c5e95-d054-449f-8921-9739c3a3604e&pf_rd_r=HKJXG8N8Z9YE07BFTXXM&pf_rd_s=merchandised-search-10&pf_rd_t=101&qid=1670514455&refinements=p_n_feature_fifteen_browse-bin%3A2753052031%2Cp_85%3A10440599031&rps=1&s=kitchen&sr=1-2'\n",
    "    headers = {\"User-Agent\": \"Mozilla/5.0 (Windows NT 10.0; Win64; x64) AppleWebKit/537.36 (KHTML, like Gecko) Chrome/108.0.0.0 Safari/537.36\",\"Accept-Encoding\":\"gzip, deflate\", \"Accept\":\"text/html,application/xhtml+xml,application/xml;q=0.9,*/*;q=0.8\", \"DNT\":\"1\",\"Connection\":\"close\", \"Upgrade-Insecure-Requests\":\"1\"}\n",
    "    page = requests.get(URL, headers=headers)\n",
    "    soup1 = BeautifulSoup(page.content, 'html.parser')\n",
    "    soup2 = BeautifulSoup(soup1.prettify(), 'html.parser')   #prettify() used to get data in proper manner \n",
    "    title = soup2.find(id='productTitle').get_text()\n",
    "    price = soup1.find(id='corePriceDisplay_desktop_feature_div').get_text().split()[1].split('₹')[1].replace(',','')\n",
    "    \n",
    "    title=title.strip()\n",
    "    price = float(soup1.find(id='corePriceDisplay_desktop_feature_div').get_text().split()[1].split('₹')[1].replace(',',''))\n",
    "        \n",
    "    from datetime import datetime\n",
    "    today=datetime.now()\n",
    "        \n",
    "    import csv\n",
    "    header=['Title','Price','Date']\n",
    "    data=[title,price,today]\n",
    "\n",
    "    f= open('AmazonWebScrapingDataset'+'.csv','a+',newline='',encoding='UTF8')\n",
    "    writer=csv.writer(f)\n",
    "    writer.writerow(data)\n",
    "    \n",
    "    budget_price=20000\n",
    "    if price<=budget_price:\n",
    "        notify()\n",
    "    "
   ]
  },
  {
   "cell_type": "code",
   "execution_count": null,
   "id": "db4228bc",
   "metadata": {},
   "outputs": [],
   "source": [
    "def notify():\n",
    "    SMTP_SERVER = 'smtp.gmail.com'\n",
    "    PORT = 587\n",
    "    email_id='sk8948839487.sk@gmail.com'\n",
    "    password='icystojgzdrunbye'\n",
    "    server= SMTP(SMTP_SERVER,PORT)\n",
    "    server.starttls()\n",
    "    server.login(email_id,password)\n",
    "    \n",
    "    subject='Hurry Up-BUY NOW'\n",
    "    body='Price is under your budget,Buy It Now:--'+ URL\n",
    "    msg=f'Subject:{subject}\\n\\n{body}'\n",
    "    \n",
    "    server.sendmail(email_id,email_id,msg)\n",
    "    server.quit()"
   ]
  },
  {
   "cell_type": "code",
   "execution_count": null,
   "id": "044eff8d",
   "metadata": {},
   "outputs": [],
   "source": [
    "import time\n",
    "while(True):\n",
    "    price_check()\n",
    "    time.sleep(18000)  #time must be in seconds"
   ]
  },
  {
   "cell_type": "code",
   "execution_count": 17,
   "id": "5c3552b0",
   "metadata": {},
   "outputs": [
    {
     "name": "stdout",
     "output_type": "stream",
     "text": [
      "Title,Price,Date\n",
      "\"LG 7 kg 5 Star Inverter Fully-Automatic Top Loading Washing Machine (â€ŽT70SKSF1Z, Middle Free Silver, TurboDrum)\",18490.0,2022-12-11 06:11:31.400280\n",
      "\"LG 7 kg 5 Star Inverter Fully-Automatic Top Loading Washing Machine (â€ŽT70SKSF1Z, Middle Free Silver, TurboDrum)\",18490.0,2022-12-11 06:12:22.415667\n",
      "\"LG 7 kg 5 Star Inverter Fully-Automatic Top Loading Washing Machine (â€ŽT70SKSF1Z, Middle Free Silver, TurboDrum)\",18490.0,2022-12-11 06:12:35.870386\n",
      "\"LG 7 kg 5 Star Inverter Fully-Automatic Top Loading Washing Machine (â€ŽT70SKSF1Z, Middle Free Silver, TurboDrum)\",18490.0,2022-12-11 06:12:49.214950\n",
      "\"LG 7 kg 5 Star Inverter Fully-Automatic Top Loading Washing Machine (â€ŽT70SKSF1Z, Middle Free Silver, TurboDrum)\",18490.0,2022-12-11 06:13:02.436147\n",
      "\"LG 7 kg 5 Star Inverter Fully-Automatic Top Loading Washing Machine (â€ŽT70SKSF1Z, Middle Free Silver, TurboDrum)\",18490.0,2022-12-11 06:13:16.081143\n",
      "\n"
     ]
    }
   ],
   "source": [
    "import pandas as pd\n",
    "\n",
    "df=open('AmazonWebScrapingDataset'+'.csv','r')\n",
    "print(df.read())"
   ]
  }
 ],
 "metadata": {
  "kernelspec": {
   "display_name": "Python 3 (ipykernel)",
   "language": "python",
   "name": "python3"
  },
  "language_info": {
   "codemirror_mode": {
    "name": "ipython",
    "version": 3
   },
   "file_extension": ".py",
   "mimetype": "text/x-python",
   "name": "python",
   "nbconvert_exporter": "python",
   "pygments_lexer": "ipython3",
   "version": "3.9.13"
  }
 },
 "nbformat": 4,
 "nbformat_minor": 5
}
